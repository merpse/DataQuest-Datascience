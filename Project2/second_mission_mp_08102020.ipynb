{
 "cells": [
  {
   "cell_type": "markdown",
   "metadata": {
    "collapsed": true
   },
   "source": [
    "## Mission 2: Exploring Hacker News Posts\n",
    "\n",
    "Hacker News Data used for this mission is located at https://www.kaggle.com/hacker-news/hacker-news-posts.\n",
    "\n",
    "* Goal of the project:\n",
    "\n",
    "    1. Analyze the Hacker News Data.\n",
    "    2. Demonstrate the use of strings.\n",
    "    2. Demonstrate Object-oriented programming.\n",
    "    3. Demonstrate date and time formatting.\n",
    "\n",
    "\n",
    "* Requirements for the analysis:\n",
    "\n",
    "    1. Count the posts beginning with \"Ask HN\" and \"Show HN\".\n",
    "    2. Determine which of the posts have a higher count.\n",
    "    3. Determine the highest number of posts for \"Ash HN\".\n",
    "    4. Show the average result for the one with the highest posts by the hour.\n",
    "\n",
    "\n",
    " \n",
    "* Column descriptions:\n",
    "\n",
    "\n",
    "    id: The unique identifier from Hacker News for the post\n",
    "\n",
    "    title: The title of the post\n",
    "\n",
    "    url: The URL that the posts links to, if it the post has a URL\n",
    "    \n",
    "    num_points: The number of points the post acquired, calculated as the total number of upvotes minus the total number of downvotes\n",
    "    \n",
    "    num_comments: The number of comments that were made on the post\n",
    "    \n",
    "    author: The username of the person who submitted the post\n",
    "    \n",
    "    created_at: The date and time at which the post was submitted\n",
    "    \n"
   ]
  },
  {
   "cell_type": "markdown",
   "metadata": {},
   "source": [
    "## First task is to print a sample set of the csv file."
   ]
  },
  {
   "cell_type": "code",
   "execution_count": 1,
   "metadata": {
    "collapsed": false
   },
   "outputs": [
    {
     "name": "stdout",
     "output_type": "stream",
     "text": [
      "['id', 'title', 'url', 'num_points', 'num_comments', 'author', 'created_at']\n",
      "['12224879', 'Interactive Dynamic Video', 'http://www.interactivedynamicvideo.com/', '386', '52', 'ne0phyte', '8/4/2016 11:52']\n",
      "['10975351', 'How to Use Open Source and Shut the Fuck Up at the Same Time', 'http://hueniverse.com/2016/01/26/how-to-use-open-source-and-shut-the-fuck-up-at-the-same-time/', '39', '10', 'josep2', '1/26/2016 19:30']\n",
      "['11964716', \"Florida DJs May Face Felony for April Fools' Water Joke\", 'http://www.thewire.com/entertainment/2013/04/florida-djs-april-fools-water-joke/63798/', '2', '1', 'vezycash', '6/23/2016 22:20']\n",
      "['11919867', 'Technology ventures: From Idea to Enterprise', 'https://www.amazon.com/Technology-Ventures-Enterprise-Thomas-Byers/dp/0073523429', '3', '1', 'hswarna', '6/17/2016 0:01']\n"
     ]
    }
   ],
   "source": [
    "#open csv file\n",
    "opened_file = open('hacker_news.csv')\n",
    "from csv import reader\n",
    "read_file = reader(opened_file)\n",
    "hn = list(read_file)\n",
    "\n",
    "#check sample data limited to 5 rows\n",
    "for row in hn[:5]:\n",
    "    print(row)\n"
   ]
  },
  {
   "cell_type": "markdown",
   "metadata": {},
   "source": [
    "\n",
    "## The second task is to remove header from the list.\n",
    "\n",
    "Below is a function that accepts 2 parameters to read a csv file and a boolean value for the header. The goal is to print the list without the header and to print the first 5 rows. \n"
   ]
  },
  {
   "cell_type": "code",
   "execution_count": 2,
   "metadata": {
    "collapsed": false
   },
   "outputs": [
    {
     "name": "stdout",
     "output_type": "stream",
     "text": [
      "['12224879', 'Interactive Dynamic Video', 'http://www.interactivedynamicvideo.com/', '386', '52', 'ne0phyte', '8/4/2016 11:52']\n",
      "['10975351', 'How to Use Open Source and Shut the Fuck Up at the Same Time', 'http://hueniverse.com/2016/01/26/how-to-use-open-source-and-shut-the-fuck-up-at-the-same-time/', '39', '10', 'josep2', '1/26/2016 19:30']\n",
      "['11964716', \"Florida DJs May Face Felony for April Fools' Water Joke\", 'http://www.thewire.com/entertainment/2013/04/florida-djs-april-fools-water-joke/63798/', '2', '1', 'vezycash', '6/23/2016 22:20']\n",
      "['11919867', 'Technology ventures: From Idea to Enterprise', 'https://www.amazon.com/Technology-Ventures-Enterprise-Thomas-Byers/dp/0073523429', '3', '1', 'hswarna', '6/17/2016 0:01']\n",
      "['10301696', 'Note by Note: The Making of Steinway L1037 (2007)', 'http://www.nytimes.com/2007/11/07/movies/07stein.html?_r=0', '8', '2', 'walterbell', '9/30/2015 4:12']\n"
     ]
    }
   ],
   "source": [
    "#method to read a csv file and a header switch\n",
    "def open_dataset(file_name, header=False):\n",
    "    opened_file = open(file_name)\n",
    "    from csv import reader\n",
    "    read_file = reader(opened_file)\n",
    "    data = list(read_file)\n",
    "    \n",
    "    if header:\n",
    "        apps_data = data[0]\n",
    "        return apps_data\n",
    "    \n",
    "    apps_data = data[1:]\n",
    "    return apps_data\n",
    "\n",
    "#execute method wit the csv file and don't print header\n",
    "hn = open_dataset('hacker_news.csv', False)\n",
    "\n",
    "#print sample date of the result set\n",
    "for row in hn[:5]:\n",
    "    print(row)\n",
    "    "
   ]
  },
  {
   "cell_type": "markdown",
   "metadata": {},
   "source": [
    "## Task is to extract \"Ask HN\" and \"Show HN Posts\" from the list generated without the header in the previous task\n",
    "\n",
    "The goal is to create 3 lists to display posts filtered by \"Ask HN\", \"Show HN\" and other posts. The \"hn\" list will be used for this task."
   ]
  },
  {
   "cell_type": "code",
   "execution_count": 3,
   "metadata": {
    "collapsed": false
   },
   "outputs": [
    {
     "name": "stdout",
     "output_type": "stream",
     "text": [
      "1744\n",
      "1162\n",
      "17194\n"
     ]
    }
   ],
   "source": [
    "#initialize arrays\n",
    "asks_posts = []\n",
    "show_posts = []\n",
    "other_posts = []\n",
    "\n",
    "#loop through the hn list\n",
    "for row in hn:\n",
    "    title = row[1]\n",
    "    title = title.lower()\n",
    "    \n",
    "    if title.startswith(\"ask hn\"):\n",
    "        asks_posts.append(row)\n",
    "    elif title.startswith(\"show hn\"):\n",
    "        show_posts.append(row)     \n",
    "    else:\n",
    "        other_posts.append(row)\n",
    "\n",
    "#print length for each list\n",
    "print(len(asks_posts))\n",
    "print(len(show_posts))\n",
    "print(len(other_posts))\n"
   ]
  },
  {
   "cell_type": "markdown",
   "metadata": {},
   "source": [
    "## The task is to calculate the average number of comments for the \"Ask HN\" and \"Show HN\" posts created in the previous task.\n",
    "\n",
    "The average counts will be displayed after going through the function that performs the iteration through the lists."
   ]
  },
  {
   "cell_type": "code",
   "execution_count": 4,
   "metadata": {
    "collapsed": false
   },
   "outputs": [
    {
     "name": "stdout",
     "output_type": "stream",
     "text": [
      "Average Ask Comments\n",
      "14.04\n",
      "\n",
      "\n",
      "Average Show Comments\n",
      "10.32\n"
     ]
    }
   ],
   "source": [
    "#method to get average for the comment list\n",
    "def get_average_count(comment_list = []):\n",
    "    total_comment = 0\n",
    "    avg_comment = 0\n",
    "    \n",
    "    for row in comment_list:\n",
    "        comment_count = int(row[4])\n",
    "        total_comment = total_comment + comment_count\n",
    "    \n",
    "    avg_comment = total_comment / len(comment_list)\n",
    "\n",
    "    return round(avg_comment,2)\n",
    "\n",
    "#get average count for \"Ask HN\"\n",
    "avg_ask_comments = get_average_count(asks_posts)\n",
    "print(\"Average Ask Comments\")\n",
    "print(avg_ask_comments)\n",
    "print(\"\\n\")\n",
    "\n",
    "#get average count for \"Show HN\"\n",
    "avg_show_comments = get_average_count(show_posts)\n",
    "print(\"Average Show Comments\")\n",
    "print(avg_show_comments)\n",
    "\n",
    "\n",
    "        "
   ]
  },
  {
   "cell_type": "markdown",
   "metadata": {},
   "source": [
    "#### The average results above shows that the average for \"Ask HN\" comments is higher than \"Show HN\"."
   ]
  },
  {
   "cell_type": "markdown",
   "metadata": {},
   "source": [
    "## The following task is to check if the \"Ask HN\" attract comments at certain times."
   ]
  },
  {
   "cell_type": "code",
   "execution_count": 5,
   "metadata": {
    "collapsed": false
   },
   "outputs": [
    {
     "name": "stdout",
     "output_type": "stream",
     "text": [
      "Sample Data from the results list\n",
      "['8/16/2016 9:55', 2]\n",
      "['11/22/2015 13:43', 28]\n",
      "['5/2/2016 10:14', 1]\n",
      "['8/2/2016 14:20', 1]\n",
      "['10/15/2015 16:38', 28]\n",
      "\n",
      "\n",
      "Count by hour dictionary\n",
      "08  :  48\n",
      "13  :  85\n",
      "03  :  54\n",
      "02  :  58\n",
      "16  :  108\n",
      "21  :  109\n",
      "01  :  60\n",
      "14  :  107\n",
      "11  :  58\n",
      "05  :  46\n",
      "22  :  71\n",
      "12  :  73\n",
      "07  :  34\n",
      "15  :  116\n",
      "20  :  80\n",
      "06  :  44\n",
      "00  :  55\n",
      "19  :  110\n",
      "17  :  100\n",
      "04  :  47\n",
      "18  :  109\n",
      "10  :  59\n",
      "09  :  45\n",
      "23  :  68\n",
      "\n",
      "\n",
      "Comments by hour dictionary\n",
      "08  :  515\n",
      "13  :  2062\n",
      "03  :  374\n",
      "02  :  793\n",
      "16  :  2522\n",
      "21  :  1721\n",
      "01  :  700\n",
      "14  :  1282\n",
      "11  :  825\n",
      "05  :  552\n",
      "22  :  511\n",
      "12  :  782\n",
      "07  :  361\n",
      "15  :  3479\n",
      "20  :  1151\n",
      "06  :  591\n",
      "00  :  451\n",
      "19  :  1513\n",
      "17  :  1941\n",
      "04  :  389\n",
      "18  :  1741\n",
      "10  :  1102\n",
      "09  :  329\n",
      "23  :  581\n"
     ]
    }
   ],
   "source": [
    "#import datetime\n",
    "from datetime import datetime\n",
    "import datetime as df\n",
    "\n",
    "results_list = []\n",
    "comment_count = 0\n",
    "temp_list = []\n",
    "\n",
    "#loop through the \"Ask HN\" post list\n",
    "#extract and save to a new list the create time, and comment count\n",
    "for row in asks_posts:\n",
    "    created_at = row[6]\n",
    "    comment_count = (row[3])\n",
    "    results_list.append([created_at, int(comment_count)])\n",
    "\n",
    "counts_by_hour={}\n",
    "comments_by_hour={}\n",
    "\n",
    "#print sample data of the results_list\n",
    "print(\"Sample Data from the results list\")\n",
    "for row in results_list[:5]:\n",
    "    print(row)\n",
    "\n",
    "#initialize date and time formats\n",
    "date_format = \"%m/%d/%Y %H:%M\"\n",
    "time_format = \"%H\"\n",
    "#count comments by the hour\n",
    "for row in results_list:\n",
    "    comment_dt = row[0]\n",
    "    comment_dt = datetime.strptime(comment_dt, date_format)\n",
    "    comment_hr = datetime.strftime(comment_dt, time_format)\n",
    "\n",
    "    if comment_hr not in counts_by_hour:\n",
    "        counts_by_hour[comment_hr] = 1\n",
    "        comments_by_hour[comment_hr] = row[1]\n",
    "    else:\n",
    "        counts_by_hour[comment_hr] += 1\n",
    "        comments_by_hour[comment_hr] += row[1]\n",
    "\n",
    "#display counts by the hour\n",
    "print(\"\\n\")\n",
    "print(\"Count by hour dictionary\")\n",
    "for key, value in counts_by_hour.items():\n",
    "    print(key, ' : ', value)\n",
    "\n",
    "\n",
    "#display comments posted by the hour\n",
    "print(\"\\n\")\n",
    "print(\"Comments by hour dictionary\")\n",
    "for key, value in comments_by_hour.items():\n",
    "    print(key, ' : ', value)\n"
   ]
  },
  {
   "cell_type": "markdown",
   "metadata": {
    "collapsed": true
   },
   "source": [
    "## The task is to calculate the average number of comments posted by the hour."
   ]
  },
  {
   "cell_type": "code",
   "execution_count": 6,
   "metadata": {
    "collapsed": false,
    "scrolled": true
   },
   "outputs": [
    {
     "name": "stdout",
     "output_type": "stream",
     "text": [
      "\n",
      "Average comment count by hour\n",
      "\n",
      "['08', 10.729166666666666]\n",
      "['13', 24.258823529411764]\n",
      "['03', 6.925925925925926]\n",
      "['02', 13.672413793103448]\n",
      "['16', 23.35185185185185]\n",
      "['21', 15.788990825688073]\n",
      "['01', 11.666666666666666]\n",
      "['14', 11.981308411214954]\n",
      "['11', 14.224137931034482]\n",
      "['05', 12.0]\n",
      "['22', 7.197183098591549]\n",
      "['12', 10.712328767123287]\n",
      "['07', 10.617647058823529]\n",
      "['15', 29.99137931034483]\n",
      "['20', 14.3875]\n",
      "['06', 13.431818181818182]\n",
      "['00', 8.2]\n",
      "['19', 13.754545454545454]\n",
      "['17', 19.41]\n",
      "['04', 8.27659574468085]\n",
      "['18', 15.972477064220184]\n",
      "['10', 18.677966101694917]\n",
      "['09', 7.311111111111111]\n",
      "['23', 8.544117647058824]\n"
     ]
    }
   ],
   "source": [
    "#initialize variables\n",
    "avg_by_hour = 0\n",
    "avg_comments_by_hour = []\n",
    "\n",
    "#get avg for comments posted by the hour\n",
    "for chr in comments_by_hour:\n",
    "    avg_hr = comments_by_hour[chr] / counts_by_hour[chr]\n",
    "    avg_comments_by_hour.append([chr, avg_hr])\n",
    "\n",
    "#display avg count by the hour\n",
    "print(\"\\nAverage comment count by hour\\n\")   \n",
    "for row in avg_comments_by_hour:\n",
    "    print(row)"
   ]
  },
  {
   "cell_type": "markdown",
   "metadata": {},
   "source": [
    "## The task is to sort and display the list for the average count of comments by the hour."
   ]
  },
  {
   "cell_type": "code",
   "execution_count": 7,
   "metadata": {
    "collapsed": false
   },
   "outputs": [
    {
     "name": "stdout",
     "output_type": "stream",
     "text": [
      "\n",
      "***Results for swap_avg_by_hour****\n",
      "\n",
      "[10.729166666666666, '08']\n",
      "[24.258823529411764, '13']\n",
      "[6.925925925925926, '03']\n",
      "[13.672413793103448, '02']\n",
      "[23.35185185185185, '16']\n",
      "[15.788990825688073, '21']\n",
      "[11.666666666666666, '01']\n",
      "[11.981308411214954, '14']\n",
      "[14.224137931034482, '11']\n",
      "[12.0, '05']\n",
      "[7.197183098591549, '22']\n",
      "[10.712328767123287, '12']\n",
      "[10.617647058823529, '07']\n",
      "[29.99137931034483, '15']\n",
      "[14.3875, '20']\n",
      "[13.431818181818182, '06']\n",
      "[8.2, '00']\n",
      "[13.754545454545454, '19']\n",
      "[19.41, '17']\n",
      "[8.27659574468085, '04']\n",
      "[15.972477064220184, '18']\n",
      "[18.677966101694917, '10']\n",
      "[7.311111111111111, '09']\n",
      "[8.544117647058824, '23']\n",
      "\n",
      "***Results for sorted_swap****\n",
      "\n",
      "[29.99137931034483, '15']\n",
      "[24.258823529411764, '13']\n",
      "[23.35185185185185, '16']\n",
      "[19.41, '17']\n",
      "[18.677966101694917, '10']\n",
      "[15.972477064220184, '18']\n",
      "[15.788990825688073, '21']\n",
      "[14.3875, '20']\n",
      "[14.224137931034482, '11']\n",
      "[13.754545454545454, '19']\n",
      "[13.672413793103448, '02']\n",
      "[13.431818181818182, '06']\n",
      "[12.0, '05']\n",
      "[11.981308411214954, '14']\n",
      "[11.666666666666666, '01']\n",
      "[10.729166666666666, '08']\n",
      "[10.712328767123287, '12']\n",
      "[10.617647058823529, '07']\n",
      "[8.544117647058824, '23']\n",
      "[8.27659574468085, '04']\n",
      "[8.2, '00']\n",
      "[7.311111111111111, '09']\n",
      "[7.197183098591549, '22']\n",
      "[6.925925925925926, '03']\n",
      "\n",
      "Top 5 Hours for Asks Posts Comments\n",
      "\n",
      "15:00  :  29.99 average comments per post\n",
      "13:00  :  24.26 average comments per post\n",
      "16:00  :  23.35 average comments per post\n",
      "17:00  :  19.41 average comments per post\n",
      "10:00  :  18.68 average comments per post\n"
     ]
    }
   ],
   "source": [
    "#import datetime\n",
    "from datetime import datetime\n",
    "import datetime as df\n",
    "\n",
    "#initialize variables\n",
    "swap_avg_by_hour = []\n",
    "sorted_swap = []\n",
    " \n",
    "#populate avg list in reverse\n",
    "for key, value in avg_comments_by_hour:\n",
    "    swap_avg_by_hour.append([value, key])\n",
    "\n",
    "#display avg list\n",
    "print('\\n***Results for swap_avg_by_hour****\\n')\n",
    "for row in swap_avg_by_hour:\n",
    "    print(row)\n",
    "\n",
    "#sort reverse list in descending order - reverse = True\n",
    "sorted_swap = sorted(swap_avg_by_hour, reverse=True)\n",
    "\n",
    "#display results of sorted list\n",
    "print('\\n***Results for sorted_swap****\\n')\n",
    "for row in sorted_swap:\n",
    "    print(row)\n",
    "    \n",
    "\n",
    "#display top 5 rows with a specific format\n",
    "time_format1 = \"%H\"\n",
    "time_format2 = \"%H:%M\"\n",
    "print(\"\\nTop 5 Hours for Asks Posts Comments\\n\") \n",
    "for avg, hr in sorted_swap[:5]:\n",
    "    hr_format = datetime.strptime(hr, time_format1)\n",
    "    hr_format = datetime.strftime(hr_format, time_format2)\n",
    "    print(hr_format, ' : ', '{:.2f} average comments per post'.format(avg))\n"
   ]
  },
  {
   "cell_type": "markdown",
   "metadata": {
    "collapsed": true
   },
   "source": [
    "## Findings:\n",
    "\n",
    "Based on the analysis of the data for the \"Ask HN\" posts, the average with the highest count is at \"15:00\" hours following a 24-hour clock. Following a 12-hour clock it is at 3:00 pm. Per the data description the time zone used is Eastern Time in the US.\n",
    "\n",
    "The right time to post in the Hacker News to receive comments following the Mountain Time is at 1:00 pm or at 13:00 hrs.\n",
    "\n"
   ]
  }
 ],
 "metadata": {
  "kernelspec": {
   "display_name": "Python 3",
   "language": "python",
   "name": "python3"
  },
  "language_info": {
   "codemirror_mode": {
    "name": "ipython",
    "version": 3
   },
   "file_extension": ".py",
   "mimetype": "text/x-python",
   "name": "python",
   "nbconvert_exporter": "python",
   "pygments_lexer": "ipython3",
   "version": "3.4.3"
  }
 },
 "nbformat": 4,
 "nbformat_minor": 2
}
