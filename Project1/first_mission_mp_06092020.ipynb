{
 "cells": [
  {
   "cell_type": "markdown",
   "metadata": {},
   "source": [
    "# First Project - Profitable App Profiles for the App Store & Google Play Markets\n",
    "\n",
    "The project goal is to analyze data to help our developers understand what type of apps are likey to attract more users.\n",
    "\n",
    "This is a portfolio project and can be shared to prospective employers."
   ]
  },
  {
   "cell_type": "code",
   "execution_count": 1,
   "metadata": {},
   "outputs": [],
   "source": [
    "apple_list = []\n",
    "google_list = []\n",
    "\n",
    "def open_file_for_analysis(file_name):\n",
    "    opened_file = open(file_name, encoding='utf8')\n",
    "    from csv import reader\n",
    "    read_file = reader(opened_file)\n",
    "    apps_data = list(read_file)\n",
    "    \n",
    "    return apps_data\n",
    "\n",
    "apple_list = open_file_for_analysis('AppleStore.csv')\n",
    "google_list = open_file_for_analysis('googleplaystore.csv')"
   ]
  },
  {
   "cell_type": "markdown",
   "metadata": {},
   "source": [
    "## Print a few rows for the two csv files"
   ]
  },
  {
   "cell_type": "code",
   "execution_count": 2,
   "metadata": {},
   "outputs": [
    {
     "name": "stdout",
     "output_type": "stream",
     "text": [
      "[['id', 'track_name', 'size_bytes', 'currency', 'price', 'rating_count_tot', 'rating_count_ver', 'user_rating', 'user_rating_ver', 'ver', 'cont_rating', 'prime_genre', 'sup_devices.num', 'ipadSc_urls.num', 'lang.num', 'vpp_lic'], ['284882215', 'Facebook', '389879808', 'USD', '0.0', '2974676', '212', '3.5', '3.5', '95.0', '4+', 'Social Networking', '37', '1', '29', '1'], ['389801252', 'Instagram', '113954816', 'USD', '0.0', '2161558', '1289', '4.5', '4.0', '10.23', '12+', 'Photo & Video', '37', '0', '29', '1']]\n"
     ]
    }
   ],
   "source": [
    "print(apple_list[0:3])"
   ]
  },
  {
   "cell_type": "code",
   "execution_count": 3,
   "metadata": {},
   "outputs": [
    {
     "name": "stdout",
     "output_type": "stream",
     "text": [
      "[['App', 'Category', 'Rating', 'Reviews', 'Size', 'Installs', 'Type', 'Price', 'Content Rating', 'Genres', 'Last Updated', 'Current Ver', 'Android Ver'], ['Photo Editor & Candy Camera & Grid & ScrapBook', 'ART_AND_DESIGN', '4.1', '159', '19M', '10,000+', 'Free', '0', 'Everyone', 'Art & Design', 'January 7, 2018', '1.0.0', '4.0.3 and up'], ['Coloring book moana', 'ART_AND_DESIGN', '3.9', '967', '14M', '500,000+', 'Free', '0', 'Everyone', 'Art & Design;Pretend Play', 'January 15, 2018', '2.0.0', '4.0.3 and up']]\n"
     ]
    }
   ],
   "source": [
    "print(google_list[0:3])"
   ]
  },
  {
   "cell_type": "code",
   "execution_count": 4,
   "metadata": {},
   "outputs": [
    {
     "name": "stdout",
     "output_type": "stream",
     "text": [
      "Google List Count\n"
     ]
    },
    {
     "data": {
      "text/plain": [
       "10842"
      ]
     },
     "execution_count": 4,
     "metadata": {},
     "output_type": "execute_result"
    }
   ],
   "source": [
    "print(\"Google List Count\")\n",
    "len(google_list)"
   ]
  },
  {
   "cell_type": "code",
   "execution_count": 5,
   "metadata": {},
   "outputs": [],
   "source": [
    "def explore_data(dataset, start, end, rows_and_columns=False):\n",
    "    dataset_slice = dataset[start:end]\n",
    "    for row in dataset_slice:\n",
    "        print(row)\n",
    "        print('\\n') # adds a new (empty) line after each row\n",
    "\n",
    "    if rows_and_columns:\n",
    "        print('Number of rows:', len(dataset))\n",
    "        print('Number of columns:', len(dataset[0]))\n"
   ]
  },
  {
   "cell_type": "code",
   "execution_count": 6,
   "metadata": {},
   "outputs": [
    {
     "name": "stdout",
     "output_type": "stream",
     "text": [
      "['id', 'track_name', 'size_bytes', 'currency', 'price', 'rating_count_tot', 'rating_count_ver', 'user_rating', 'user_rating_ver', 'ver', 'cont_rating', 'prime_genre', 'sup_devices.num', 'ipadSc_urls.num', 'lang.num', 'vpp_lic']\n",
      "\n",
      "\n",
      "['284882215', 'Facebook', '389879808', 'USD', '0.0', '2974676', '212', '3.5', '3.5', '95.0', '4+', 'Social Networking', '37', '1', '29', '1']\n",
      "\n",
      "\n",
      "['389801252', 'Instagram', '113954816', 'USD', '0.0', '2161558', '1289', '4.5', '4.0', '10.23', '12+', 'Photo & Video', '37', '0', '29', '1']\n",
      "\n",
      "\n",
      "Number of rows: 7198\n",
      "Number of columns: 16\n"
     ]
    }
   ],
   "source": [
    "explore_data(apple_list,0,3,rows_and_columns=True)"
   ]
  },
  {
   "cell_type": "markdown",
   "metadata": {},
   "source": [
    "# Apple List Notes:\n",
    "The apple list have 7,198 rows as of 05/03/2020. The file also has 16 columns. The data definition of the file are all described in https://www.kaggle.com/ramamet4/app-store-apple-data-set-10k-apps"
   ]
  },
  {
   "cell_type": "code",
   "execution_count": 7,
   "metadata": {},
   "outputs": [
    {
     "name": "stdout",
     "output_type": "stream",
     "text": [
      "\n",
      "\n",
      "['App', 'Category', 'Rating', 'Reviews', 'Size', 'Installs', 'Type', 'Price', 'Content Rating', 'Genres', 'Last Updated', 'Current Ver', 'Android Ver']\n",
      "\n",
      "\n",
      "['Photo Editor & Candy Camera & Grid & ScrapBook', 'ART_AND_DESIGN', '4.1', '159', '19M', '10,000+', 'Free', '0', 'Everyone', 'Art & Design', 'January 7, 2018', '1.0.0', '4.0.3 and up']\n",
      "\n",
      "\n",
      "['Coloring book moana', 'ART_AND_DESIGN', '3.9', '967', '14M', '500,000+', 'Free', '0', 'Everyone', 'Art & Design;Pretend Play', 'January 15, 2018', '2.0.0', '4.0.3 and up']\n",
      "\n",
      "\n",
      "Number of rows: 10842\n",
      "Number of columns: 13\n"
     ]
    }
   ],
   "source": [
    "print('\\n')\n",
    "explore_data(google_list,0,3,rows_and_columns=True)"
   ]
  },
  {
   "cell_type": "markdown",
   "metadata": {},
   "source": [
    "# Google List Notes:\n",
    "The google list has 10,842 rows as of 05/03/2020. The file also has 13 columns. The data definition of the file are all described in https://www.kaggle.com/lava18/google-play-store-apps#googleplaystore.csv\n",
    "\n",
    "Data Cleaning Task for file \"googleapplestore.csv\". \n",
    "Per the discussion, users have found a missing column. The current row for my copy of the csv file has the error on row 10,473.\n",
    "\n",
    "The lesson's instruction is to delete the row. However, after inspecting the data, the values for the row is clean but is only missing a column. My approach would be not to delete the row but to move the data in their respective columns.\n",
    "\n",
    "Before deleting or modifying rows, it would be good to check what other rows thay may have a missing column assuming that a column without a value should have a null value.\n",
    "\n",
    "Additional steps that I would perform outside of python, would be to import data into a database table, and use that to further look into the data to validate the source using two different approaches. In the database, I would use SQL statements to determine duplicate rows for all columns in a row."
   ]
  },
  {
   "cell_type": "code",
   "execution_count": 8,
   "metadata": {},
   "outputs": [
    {
     "name": "stdout",
     "output_type": "stream",
     "text": [
      "Header lenght is 13\n"
     ]
    }
   ],
   "source": [
    "header_len = len(google_list[0])\n",
    "print(\"Header lenght is \" + str(header_len))\n",
    "for row in google_list[1:]:\n",
    "    if len(row) < header_len:\n",
    "        print(\"Lenght of row is \" + str(len(row)))\n",
    "        print(\"Index of row is \" + str(google_list.index(row)))\n",
    "        print(row)"
   ]
  },
  {
   "cell_type": "markdown",
   "metadata": {},
   "source": [
    "# Converting the above loop to a function that accepts a list as a parameter"
   ]
  },
  {
   "cell_type": "code",
   "execution_count": 9,
   "metadata": {},
   "outputs": [],
   "source": [
    "def check_invalid_row(list):\n",
    "    header_len = len(list[0])\n",
    "    print(\"Header lenght is \" + str(header_len))\n",
    "    for row in list[1:]:\n",
    "        if len(row) < header_len:\n",
    "            print(\"Lenght of row is \" + str(len(row)))\n",
    "            print(\"Index of row is \" + str(list.index(row)))\n",
    "            print(row)\n"
   ]
  },
  {
   "cell_type": "markdown",
   "metadata": {},
   "source": [
    "# Check invalid rows for the googleplaystore.csv file. Expected result is that no rows returned since the file was fixed."
   ]
  },
  {
   "cell_type": "code",
   "execution_count": 10,
   "metadata": {},
   "outputs": [
    {
     "name": "stdout",
     "output_type": "stream",
     "text": [
      "Header lenght is 16\n"
     ]
    }
   ],
   "source": [
    "check_invalid_row(apple_list)"
   ]
  },
  {
   "cell_type": "markdown",
   "metadata": {},
   "source": [
    "# Check for duplicate app names in the google list\n",
    "\n",
    "To separate duplicate rows, the duplicate is going to be assigned to a new list.\n"
   ]
  },
  {
   "cell_type": "code",
   "execution_count": 11,
   "metadata": {},
   "outputs": [
    {
     "name": "stdout",
     "output_type": "stream",
     "text": [
      "Number of duplicate apps: 1181\n",
      "\n",
      "\n",
      "Duplicate app names: ['Quick PDF Scanner + OCR FREE', 'Box', 'Google My Business', 'ZOOM Cloud Meetings', 'join.me - Simple Meetings']\n",
      "\n",
      "\n",
      "Number of google unique apps: 9660\n",
      "\n",
      "\n",
      "Unique google app names: ['Photo Editor & Candy Camera & Grid & ScrapBook', 'Coloring book moana', 'U Launcher Lite – FREE Live Cool Themes, Hide Apps', 'Sketch - Draw & Paint', 'Pixel Draw - Number Art Coloring Book']\n",
      "\n",
      "\n"
     ]
    }
   ],
   "source": [
    "duplicate_apps = []\n",
    "unique_apps = []\n",
    "applist_list = []\n",
    "google_list = []\n",
    "\n",
    "def open_file_for_analysis(file_name):\n",
    "    opened_file = open(file_name, encoding='utf8')\n",
    "    from csv import reader\n",
    "    read_file = reader(opened_file)\n",
    "    apps_data = list(read_file)\n",
    "    \n",
    "    return apps_data\n",
    "\n",
    "def check_duplicate_app(app_list):\n",
    "    for row in app_list[1:]:\n",
    "        name = row[0]\n",
    "        if name in unique_apps:\n",
    "            duplicate_apps.append(name)\n",
    "        else:\n",
    "            unique_apps.append(name)\n",
    "    \n",
    "    print('Number of duplicate apps:', len(duplicate_apps))\n",
    "    print('\\n')\n",
    "    print('Duplicate app names:', duplicate_apps[:5]) \n",
    "    print('\\n')    \n",
    "    return(unique_apps)\n",
    "    \n",
    "\n",
    "google_list = open_file_for_analysis('googleplaystore.csv')\n",
    "google_unique_list = check_duplicate_app(google_list)\n",
    "\n",
    "print('Number of google unique apps:', len(google_unique_list))\n",
    "print('\\n')\n",
    "print('Unique google app names:', google_unique_list[:5]) \n",
    "print('\\n')\n"
   ]
  },
  {
   "cell_type": "code",
   "execution_count": 12,
   "metadata": {},
   "outputs": [
    {
     "name": "stdout",
     "output_type": "stream",
     "text": [
      "['Box', 'BUSINESS', '4.2', '159872', 'Varies with device', '10,000,000+', 'Free', '0', 'Everyone', 'Business', 'July 31, 2018', 'Varies with device', 'Varies with device']\n",
      "['Box', 'BUSINESS', '4.2', '159872', 'Varies with device', '10,000,000+', 'Free', '0', 'Everyone', 'Business', 'July 31, 2018', 'Varies with device', 'Varies with device']\n",
      "['Box', 'BUSINESS', '4.2', '159872', 'Varies with device', '10,000,000+', 'Free', '0', 'Everyone', 'Business', 'July 31, 2018', 'Varies with device', 'Varies with device']\n"
     ]
    }
   ],
   "source": [
    "for app in google_list:\n",
    "    name = app[0]\n",
    "    if name == 'Box':\n",
    "        print(app)\n",
    "      "
   ]
  },
  {
   "cell_type": "markdown",
   "metadata": {},
   "source": [
    "# Using panda DataFrame to check all the columns for duplicate rows"
   ]
  },
  {
   "cell_type": "code",
   "execution_count": 13,
   "metadata": {},
   "outputs": [
    {
     "name": "stdout",
     "output_type": "stream",
     "text": [
      "Columns for google_list\n",
      "['App', 'Category', 'Rating', 'Reviews', 'Size', 'Installs', 'Type', 'Price', 'Content Rating', 'Genres', 'Last Updated', 'Current Ver', 'Android Ver']\n",
      "\n",
      "\n",
      "Google List Count\n",
      "10842\n",
      "\n",
      "\n",
      "Display duplicate rows using DataFrame\n",
      "\n",
      "\n",
      "Count of duplicate rows in the Dataframe\n",
      "483\n",
      "\n",
      "\n",
      "                                  0                    1    2       3  \\\n",
      "165                    Ebook Reader  BOOKS_AND_REFERENCE  4.1   85842   \n",
      "193   Docs To Go™ Free Office Suite             BUSINESS  4.1  217730   \n",
      "194              Google My Business             BUSINESS  4.4   70991   \n",
      "205                             Box             BUSINESS  4.2  159872   \n",
      "214             ZOOM Cloud Meetings             BUSINESS  4.4   31614   \n",
      "...                             ...                  ...  ...     ...   \n",
      "3788     ABC News - US & World News   NEWS_AND_MAGAZINES  4.0   18976   \n",
      "3789                       NBC News   NEWS_AND_MAGAZINES  4.1   63020   \n",
      "3791                      USA TODAY   NEWS_AND_MAGAZINES  4.1   49259   \n",
      "3793   CNN Breaking US & World News   NEWS_AND_MAGAZINES  4.0  293080   \n",
      "3796   Newsroom: News Worth Sharing   NEWS_AND_MAGAZINES  4.2  201737   \n",
      "\n",
      "                       4            5     6  7             8  \\\n",
      "165                  37M   5,000,000+  Free  0      Everyone   \n",
      "193   Varies with device  50,000,000+  Free  0      Everyone   \n",
      "194   Varies with device   5,000,000+  Free  0      Everyone   \n",
      "205   Varies with device  10,000,000+  Free  0      Everyone   \n",
      "214                  37M  10,000,000+  Free  0      Everyone   \n",
      "...                  ...          ...   ... ..           ...   \n",
      "3788                 35M   1,000,000+  Free  0  Everyone 10+   \n",
      "3789  Varies with device   5,000,000+  Free  0  Everyone 10+   \n",
      "3791  Varies with device   5,000,000+  Free  0  Everyone 10+   \n",
      "3793                 25M  10,000,000+  Free  0  Everyone 10+   \n",
      "3796  Varies with device  10,000,000+  Free  0  Everyone 10+   \n",
      "\n",
      "                      9                 10                  11  \\\n",
      "165   Books & Reference      June 25, 2018               5.0.6   \n",
      "193            Business      April 2, 2018  Varies with device   \n",
      "194            Business      July 24, 2018    2.19.0.204537701   \n",
      "205            Business      July 31, 2018  Varies with device   \n",
      "214            Business      July 20, 2018      4.1.28165.0716   \n",
      "...                 ...                ...                 ...   \n",
      "3788   News & Magazines       June 6, 2018             3.19.11   \n",
      "3789   News & Magazines  February 13, 2018  Varies with device   \n",
      "3791   News & Magazines     August 2, 2018  Varies with device   \n",
      "3793   News & Magazines     August 6, 2018                5.17   \n",
      "3796   News & Magazines       July 3, 2018  Varies with device   \n",
      "\n",
      "                      12  \n",
      "165           4.0 and up  \n",
      "193   Varies with device  \n",
      "194           4.4 and up  \n",
      "205   Varies with device  \n",
      "214           4.0 and up  \n",
      "...                  ...  \n",
      "3788          5.0 and up  \n",
      "3789  Varies with device  \n",
      "3791  Varies with device  \n",
      "3793          4.4 and up  \n",
      "3796  Varies with device  \n",
      "\n",
      "[483 rows x 13 columns]\n"
     ]
    }
   ],
   "source": [
    "import pandas as pd\n",
    "\n",
    "print('Columns for google_list')\n",
    "print(google_list[0])\n",
    "print('\\n')\n",
    "print('Google List Count')\n",
    "print(len(google_list))\n",
    "\n",
    "dfObj1 = pd.DataFrame(google_list)\n",
    "\n",
    "print('\\n')\n",
    "print('Display duplicate rows using DataFrame')\n",
    "print('\\n')\n",
    "duplicateRows = dfObj1[dfObj1.duplicated(keep='last')]\n",
    "print('Count of duplicate rows in the Dataframe')\n",
    "print(len(duplicateRows))\n",
    "print('\\n')\n",
    "print(duplicateRows)\n"
   ]
  },
  {
   "cell_type": "markdown",
   "metadata": {},
   "source": [
    "# Print some rows for the duplicates\n",
    "The list only displays the last duplicate rows. There are 3 rows for app equals to 'Box. With panda, only the 2 duplicate rows are contained in the list."
   ]
  },
  {
   "cell_type": "code",
   "execution_count": 14,
   "metadata": {},
   "outputs": [
    {
     "name": "stdout",
     "output_type": "stream",
     "text": [
      "483\n",
      "['Box', 'BUSINESS', '4.2', '159872', 'Varies with device', '10,000,000+', 'Free', '0', 'Everyone', 'Business', 'July 31, 2018', 'Varies with device', 'Varies with device']\n",
      "\n",
      "\n",
      "['Box', 'BUSINESS', '4.2', '159872', 'Varies with device', '10,000,000+', 'Free', '0', 'Everyone', 'Business', 'July 31, 2018', 'Varies with device', 'Varies with device']\n",
      "\n",
      "\n"
     ]
    }
   ],
   "source": [
    "duplicate_only = []\n",
    "duplicate_only = duplicateRows.values.tolist()\n",
    "\n",
    "print(len(duplicate_only))\n",
    "\n",
    "for row in duplicate_only:\n",
    "    name = row[0]\n",
    "    if name == 'Box':\n",
    "        print(row)\n",
    "        print('\\n')"
   ]
  },
  {
   "cell_type": "markdown",
   "metadata": {},
   "source": [
    "# Removing duplicate rows using panda\n",
    "\n",
    "After removing the duplicates, data frame was converted to a list. I am retaining an original copy of the google play store in another list. In this approach, I am considering the duplicate row by comparing each column."
   ]
  },
  {
   "cell_type": "code",
   "execution_count": 15,
   "metadata": {},
   "outputs": [
    {
     "name": "stdout",
     "output_type": "stream",
     "text": [
      "                                                       0                    1  \\\n",
      "0                                                    App             Category   \n",
      "1         Photo Editor & Candy Camera & Grid & ScrapBook       ART_AND_DESIGN   \n",
      "2                                    Coloring book moana       ART_AND_DESIGN   \n",
      "3      U Launcher Lite – FREE Live Cool Themes, Hide ...       ART_AND_DESIGN   \n",
      "4                                  Sketch - Draw & Paint       ART_AND_DESIGN   \n",
      "...                                                  ...                  ...   \n",
      "10837                                   Sya9a Maroc - FR               FAMILY   \n",
      "10838                   Fr. Mike Schmitz Audio Teachings               FAMILY   \n",
      "10839                             Parkinson Exercices FR              MEDICAL   \n",
      "10840                      The SCP Foundation DB fr nn5n  BOOKS_AND_REFERENCE   \n",
      "10841      iHoroscope - 2018 Daily Horoscope & Astrology            LIFESTYLE   \n",
      "\n",
      "            2        3                   4            5     6      7  \\\n",
      "0      Rating  Reviews                Size     Installs  Type  Price   \n",
      "1         4.1      159                 19M      10,000+  Free      0   \n",
      "2         3.9      967                 14M     500,000+  Free      0   \n",
      "3         4.7    87510                8.7M   5,000,000+  Free      0   \n",
      "4         4.5   215644                 25M  50,000,000+  Free      0   \n",
      "...       ...      ...                 ...          ...   ...    ...   \n",
      "10837     4.5       38                 53M       5,000+  Free      0   \n",
      "10838     5.0        4                3.6M         100+  Free      0   \n",
      "10839     NaN        3                9.5M       1,000+  Free      0   \n",
      "10840     4.5      114  Varies with device       1,000+  Free      0   \n",
      "10841     4.5   398307                 19M  10,000,000+  Free      0   \n",
      "\n",
      "                    8                          9                10  \\\n",
      "0      Content Rating                     Genres      Last Updated   \n",
      "1            Everyone               Art & Design   January 7, 2018   \n",
      "2            Everyone  Art & Design;Pretend Play  January 15, 2018   \n",
      "3            Everyone               Art & Design    August 1, 2018   \n",
      "4                Teen               Art & Design      June 8, 2018   \n",
      "...               ...                        ...               ...   \n",
      "10837        Everyone                  Education     July 25, 2017   \n",
      "10838        Everyone                  Education      July 6, 2018   \n",
      "10839        Everyone                    Medical  January 20, 2017   \n",
      "10840      Mature 17+          Books & Reference  January 19, 2015   \n",
      "10841        Everyone                  Lifestyle     July 25, 2018   \n",
      "\n",
      "                       11                  12  \n",
      "0             Current Ver         Android Ver  \n",
      "1                   1.0.0        4.0.3 and up  \n",
      "2                   2.0.0        4.0.3 and up  \n",
      "3                   1.2.4        4.0.3 and up  \n",
      "4      Varies with device          4.2 and up  \n",
      "...                   ...                 ...  \n",
      "10837                1.48          4.1 and up  \n",
      "10838                 1.0          4.1 and up  \n",
      "10839                 1.0          2.2 and up  \n",
      "10840  Varies with device  Varies with device  \n",
      "10841  Varies with device  Varies with device  \n",
      "\n",
      "[10359 rows x 13 columns]\n",
      "\n",
      "\n",
      "New google list count\n",
      "10359\n",
      "\n",
      "\n",
      "['App', 'Category', 'Rating', 'Reviews', 'Size', 'Installs', 'Type', 'Price', 'Content Rating', 'Genres', 'Last Updated', 'Current Ver', 'Android Ver']\n",
      "\n",
      "\n",
      "['Photo Editor & Candy Camera & Grid & ScrapBook', 'ART_AND_DESIGN', '4.1', '159', '19M', '10,000+', 'Free', '0', 'Everyone', 'Art & Design', 'January 7, 2018', '1.0.0', '4.0.3 and up']\n",
      "\n",
      "\n",
      "['Coloring book moana', 'ART_AND_DESIGN', '3.9', '967', '14M', '500,000+', 'Free', '0', 'Everyone', 'Art & Design;Pretend Play', 'January 15, 2018', '2.0.0', '4.0.3 and up']\n",
      "\n",
      "\n",
      "['U Launcher Lite – FREE Live Cool Themes, Hide Apps', 'ART_AND_DESIGN', '4.7', '87510', '8.7M', '5,000,000+', 'Free', '0', 'Everyone', 'Art & Design', 'August 1, 2018', '1.2.4', '4.0.3 and up']\n",
      "\n",
      "\n",
      "['Sketch - Draw & Paint', 'ART_AND_DESIGN', '4.5', '215644', '25M', '50,000,000+', 'Free', '0', 'Teen', 'Art & Design', 'June 8, 2018', 'Varies with device', '4.2 and up']\n",
      "\n",
      "\n"
     ]
    }
   ],
   "source": [
    "dfObj2 = dfObj1.drop_duplicates()\n",
    "print(dfObj2)\n",
    "\n",
    "clean_google_list = []\n",
    "clean_google_list = dfObj2.values.tolist()\n",
    "\n",
    "print('\\n')\n",
    "print('New google list count')\n",
    "print(len(clean_google_list))\n",
    "print('\\n')\n",
    "\n",
    "for row in clean_google_list[:5]:\n",
    "    print(row)\n",
    "    print('\\n')\n"
   ]
  },
  {
   "cell_type": "markdown",
   "metadata": {},
   "source": [
    "# Expected Result\n",
    "\n",
    "The expected result from the lessons does not match the counts based on my analysis. For example, the previous task that splits the duplicate and unique rows only counts the app names. Out of the 1,181 rows there are actually 483 duplicate rows only. For example there are 3 rows for the app equal to 'Box'.\n",
    "\n",
    "With the panda duplicate rows, the duplicates are removed from the google list and leaves the unique row.\n",
    "\n",
    "Using the panda drop_duplicates removes all the duplicate rows. Below is the total"
   ]
  },
  {
   "cell_type": "code",
   "execution_count": 16,
   "metadata": {},
   "outputs": [
    {
     "name": "stdout",
     "output_type": "stream",
     "text": [
      "Length of google play store list after cleanup\n",
      "10358\n"
     ]
    }
   ],
   "source": [
    "print('Length of google play store list after cleanup')\n",
    "print(len(clean_google_list[1:]))"
   ]
  },
  {
   "cell_type": "code",
   "execution_count": 17,
   "metadata": {},
   "outputs": [
    {
     "name": "stdout",
     "output_type": "stream",
     "text": [
      "10842\n"
     ]
    }
   ],
   "source": [
    "print(len(google_list))"
   ]
  },
  {
   "cell_type": "markdown",
   "metadata": {},
   "source": [
    "# Removing duplicate rows with the use of a dictionary and only keeping the row with the max review count\n",
    "\n",
    "Create a dictionary and only keep rows with the max review count. In my google (android list), my expected result is 9660 instead of 9,659. I didn't remove the row at the beginning of the excercise that was missing a column. I fixed the row by adding a cell instead of removing it. If the row was deleted it would match the expected count of 9,659."
   ]
  },
  {
   "cell_type": "code",
   "execution_count": 18,
   "metadata": {},
   "outputs": [
    {
     "name": "stdout",
     "output_type": "stream",
     "text": [
      "Number of Rows without the duplicates\n",
      "9660\n",
      "\n",
      "\n",
      "Number of rows after cleanup\n",
      "10055\n"
     ]
    }
   ],
   "source": [
    "reviews_max = {}\n",
    "clean_google_list2 = []\n",
    "\n",
    "for row in google_list[1:]:\n",
    "    name = row[0]\n",
    "    n_reviews = float(row[3])\n",
    "    if name not in reviews_max:\n",
    "        reviews_max[name] = n_reviews\n",
    "    elif reviews_max[name] < n_reviews:\n",
    "        reviews_max[name] = n_reviews\n",
    "    \n",
    "print(\"Number of Rows without the duplicates\")\n",
    "print(len(reviews_max))\n",
    "print('\\n')\n",
    "\n",
    "for row in google_list[1:]:\n",
    "    name = row[0]\n",
    "    n_reviews = float(row[3])\n",
    "    \n",
    "    for y in reviews_max:\n",
    "        if name == y and reviews_max[y] == n_reviews:\n",
    "            clean_google_list2.append(row)\n",
    "            break\n",
    "        elif name == y and name not in reviews_max:\n",
    "            clean_google_list2.append(row)   \n",
    "\n",
    "print(\"Number of rows after cleanup\")\n",
    "print(len(clean_google_list2))"
   ]
  },
  {
   "cell_type": "markdown",
   "metadata": {},
   "source": [
    "## Based on the task for this mission, I have validated the results above with a SQL query using a temp table where I have stored the google_play_list. Returned count from the query is also 10,055.\n",
    "\n",
    "SQL used to check in Postgres:\n",
    "\n",
    "    select *\n",
    "    from google_play_store a,\n",
    "    (\n",
    "        select app, max(reviews) reviews\n",
    "        from\n",
    "        (\n",
    "        select distinct app, reviews\n",
    "        from google_play_store\n",
    "        --\n",
    "        --\n",
    "        order by app\n",
    "        ) y\n",
    "        --\n",
    "        --where app like 'A&E%'\n",
    "        --\n",
    "        group by app ) b\n",
    "        --\n",
    "    where a.app = b.app\n",
    "    and a.reviews = b.reviews;\n",
    "\n",
    "## The count from this task only accounts for the max(reviews) count if more than one row for an app exist."
   ]
  },
  {
   "cell_type": "markdown",
   "metadata": {},
   "source": [
    "### The following task filters the rows from the cleaned google app list. The goal is to only keep english apps from the list. A new list will be created just for the english apps."
   ]
  },
  {
   "cell_type": "code",
   "execution_count": 19,
   "metadata": {},
   "outputs": [
    {
     "name": "stdout",
     "output_type": "stream",
     "text": [
      "Number of Google english apps\n",
      "10028\n",
      "\n",
      "Number of Google non-english apps\n",
      "27\n",
      "\n",
      "\n",
      "List of Google non-english apps\n",
      "\n",
      "\n",
      "Flame - درب عقلك يوميا\n",
      "РИА Новости\n",
      "RMEduS - 음성인식을 활용한 R 프로그래밍 실습 시스템\n",
      "AJ렌터카 법인 카셰어링\n",
      "中国語 AQリスニング\n",
      "\n",
      "\n",
      "Number of Apple english apps\n",
      "6357\n",
      "\n",
      "Number of Apple non-english apps\n",
      "841\n",
      "\n",
      "\n",
      "List of Apple non-english apps\n",
      "\n",
      "\n",
      "爱奇艺PPS -《欢乐颂2》电视剧热播\n",
      "聚力视频HD-人民的名义,跨界歌王全网热播\n",
      "优酷视频\n",
      "网易新闻 - 精选好内容，算出你的兴趣\n",
      "淘宝 - 随时随地，想淘就淘\n"
     ]
    }
   ],
   "source": [
    "google_english_app = []\n",
    "google_nonenglish_app = []\n",
    "apple_english_app = []\n",
    "apple_nonenglish_app = []\n",
    "google_english_app2 = []\n",
    "google_nonenglish_app2 = []\n",
    "\n",
    "def check_char(app_name):\n",
    "    allowed_over_127 = 0\n",
    "    for x in range(len(app_name)):\n",
    "        if ord(app_name[x]) <= 127:\n",
    "            english_app = True\n",
    "        else:\n",
    "            if allowed_over_127 < 3:\n",
    "                allowed_over_127 += 1\n",
    "                english_app = True\n",
    "            else:\n",
    "                english_app = False\n",
    "                \n",
    "    \n",
    "    return english_app\n",
    "\n",
    "def populate_new_list(app_list, index):\n",
    "    english_app = []\n",
    "    non_english_app = []\n",
    "    for row in app_list:\n",
    "        english_only = check_char(row[index])\n",
    "        if english_only:\n",
    "            english_app.append(row)\n",
    "        else:\n",
    "            non_english_app.append(row)\n",
    "    \n",
    "    return english_app, non_english_app\n",
    "       \n",
    "\n",
    "apple_english_app, apple_nonenglish_app = populate_new_list(apple_list, 1)\n",
    "google_english_app, google_nonenglish_app = populate_new_list(clean_google_list2, 0)\n",
    "    \n",
    "\n",
    "print(\"Number of Google english apps\")\n",
    "print(len(google_english_app))\n",
    "print(\"\")\n",
    "print(\"Number of Google non-english apps\")\n",
    "print(len(google_nonenglish_app))\n",
    "\n",
    "print(\"\\n\")\n",
    "print(\"List of Google non-english apps\")\n",
    "print(\"\\n\")\n",
    "for row in google_nonenglish_app[:5]:\n",
    "    print(row[0])\n",
    "\n",
    "print(\"\\n\")\n",
    "print(\"Number of Apple english apps\")\n",
    "print(len(apple_english_app))\n",
    "print(\"\")\n",
    "print(\"Number of Apple non-english apps\")\n",
    "print(len(apple_nonenglish_app))\n",
    "\n",
    "print(\"\\n\")\n",
    "print(\"List of Apple non-english apps\")\n",
    "print(\"\\n\")\n",
    "for row in apple_nonenglish_app[:5]:\n",
    "    print(row[1])\n"
   ]
  },
  {
   "cell_type": "markdown",
   "metadata": {},
   "source": [
    "### This task will separate the free apps from the paid apps using the list for the english apps."
   ]
  },
  {
   "cell_type": "code",
   "execution_count": 20,
   "metadata": {},
   "outputs": [
    {
     "name": "stdout",
     "output_type": "stream",
     "text": [
      "Number of Free English Google Apps\n",
      "9243\n",
      "\n",
      "\n",
      "Number of Paid English Google Apps\n",
      "785\n",
      "\n",
      "\n",
      "Number of Free English Apple Apps\n",
      "3357\n",
      "\n",
      "\n",
      "Number of Paid English Apple Apps\n",
      "3000\n"
     ]
    }
   ],
   "source": [
    "google_english_free_apps = []\n",
    "google_english_paid_apps = []\n",
    "\n",
    "apple_english_free_apps = []\n",
    "apple_english_paid_apps = []\n",
    "\n",
    "for row in google_english_app:\n",
    "    if row[7] == '0':\n",
    "        google_english_free_apps.append(row)\n",
    "    else:\n",
    "        google_english_paid_apps.append(row)\n",
    "        \n",
    "for row in apple_english_app:\n",
    "    if row[4] == '0.0':\n",
    "        apple_english_free_apps.append(row)\n",
    "    else:\n",
    "        apple_english_paid_apps.append(row)\n",
    "    \n",
    "print(\"Number of Free English Google Apps\")\n",
    "print(len(google_english_free_apps))\n",
    "print(\"\\n\")\n",
    "print(\"Number of Paid English Google Apps\")\n",
    "print(len(google_english_paid_apps))\n",
    "print(\"\\n\")\n",
    "print(\"Number of Free English Apple Apps\")\n",
    "print(len(apple_english_free_apps))\n",
    "print(\"\\n\")\n",
    "print(\"Number of Paid English Apple Apps\")\n",
    "print(len(apple_english_paid_apps))"
   ]
  },
  {
   "cell_type": "markdown",
   "metadata": {},
   "source": [
    "## Profitable apps\n",
    "\n",
    "In this task we need to identify apps that are profitable for the Apple Store and Google Play. The following criteria will be used for the apps:\n",
    "\n",
    "1) Google Play\n",
    "\n",
    "Columns for this data set that can be used for the analysis is the category and genres. Doing a count for each prime_genre frequency can be used.\n",
    "\n",
    "2) Apple Playstore\n",
    "\n",
    "Columns for this data set that can be used for the analysis is the prime_genre.\n"
   ]
  },
  {
   "cell_type": "markdown",
   "metadata": {},
   "source": [
    "### Printing the frequency table with frequencies expressed as percentages.\n",
    "\n",
    "The new freq_table function will require two arguments: dataset and index. This function should return the result for the frequency.\n",
    "\n",
    "Frequency tables:\n",
    "\n",
    "1) App Store - Prime genre column\n",
    "\n",
    "2) Google Play Store - Genres and Category columns.\n",
    "\n"
   ]
  },
  {
   "cell_type": "code",
   "execution_count": 21,
   "metadata": {},
   "outputs": [],
   "source": [
    "def display_table(dataset, index):\n",
    "    table = freq_table(dataset, index)\n",
    "    table_display = []\n",
    "    for key in table:\n",
    "        key_val_as_tuple = (table[key], key)\n",
    "        table_display.append(key_val_as_tuple)\n",
    "\n",
    "    table_sorted = sorted(table_display, reverse = True)\n",
    "    for entry in table_sorted:\n",
    "        print(entry[1], ':', entry[0])\n",
    "        \n",
    "        \n",
    "def freq_table(dataset, index):\n",
    "    content_ratings = {}\n",
    "    total = 0\n",
    "\n",
    "    for row in dataset:\n",
    "        total += 1\n",
    "        content_key = row[index]\n",
    "        if content_key in content_ratings:\n",
    "            content_ratings[content_key] += 1\n",
    "        else:\n",
    "            content_ratings[content_key] = 1\n",
    "            \n",
    "            \n",
    "    content_percentage = {}\n",
    "    for key in content_ratings:\n",
    "        percentage = (content_ratings[key] / total) * 100\n",
    "        content_percentage[key] = percentage\n",
    "    \n",
    "    return content_percentage"
   ]
  },
  {
   "cell_type": "code",
   "execution_count": 22,
   "metadata": {},
   "outputs": [
    {
     "name": "stdout",
     "output_type": "stream",
     "text": [
      "\n",
      "\n",
      "Example of rows from English Apple App store\n",
      "\n",
      "\n",
      "['284882215', 'Facebook', '389879808', 'USD', '0.0', '2974676', '212', '3.5', '3.5', '95.0', '4+', 'Social Networking', '37', '1', '29', '1']\n",
      "\n",
      "\n",
      "['389801252', 'Instagram', '113954816', 'USD', '0.0', '2161558', '1289', '4.5', '4.0', '10.23', '12+', 'Photo & Video', '37', '0', '29', '1']\n",
      "\n",
      "\n",
      "['529479190', 'Clash of Clans', '116476928', 'USD', '0.0', '2130805', '579', '4.5', '4.5', '9.24.12', '9+', 'Games', '38', '5', '18', '1']\n",
      "\n",
      "\n",
      "Apple English App Frequency for Genres \n",
      "Games : 58.117366696455164\n",
      "Entertainment : 7.953529937444147\n",
      "Photo & Video : 4.885314268692285\n",
      "Education : 3.544831694965743\n",
      "Social Networking : 3.276735180220435\n",
      "Shopping : 2.5915996425379806\n",
      "Utilities : 2.5320226392612453\n",
      "Sports : 2.0554066130473636\n",
      "Music : 1.966041108132261\n",
      "Health & Fitness : 1.966041108132261\n",
      "Productivity : 1.7277330950253202\n",
      "Lifestyle : 1.668156091748585\n",
      "News : 1.3404825737265416\n",
      "Travel : 1.2213285671730711\n",
      "Finance : 1.1915400655347037\n",
      "Food & Drink : 0.9234435507893953\n",
      "Weather : 0.8340780458742925\n",
      "Reference : 0.5659815311289842\n",
      "Business : 0.5361930294906166\n",
      "Book : 0.47661602621388144\n",
      "Navigation : 0.2680965147453083\n",
      "Medical : 0.20851951146857312\n",
      "Catalogs : 0.14894250819183796\n"
     ]
    }
   ],
   "source": [
    "print(\"\\n\")\n",
    "print(\"Example of rows from English Apple App store\")\n",
    "\n",
    "for row in apple_english_free_apps[:3]:\n",
    "    print(\"\\n\")\n",
    "    print(row)\n",
    "\n",
    "print(\"\\n\")\n",
    "print(\"Apple English App Frequency for Genres \")\n",
    "\n",
    "display_table(apple_english_free_apps, 11)\n"
   ]
  },
  {
   "cell_type": "code",
   "execution_count": 23,
   "metadata": {},
   "outputs": [
    {
     "name": "stdout",
     "output_type": "stream",
     "text": [
      "\n",
      "\n",
      "Example of rows from Google App store\n",
      "\n",
      "\n",
      "['Photo Editor & Candy Camera & Grid & ScrapBook', 'ART_AND_DESIGN', '4.1', '159', '19M', '10,000+', 'Free', '0', 'Everyone', 'Art & Design', 'January 7, 2018', '1.0.0', '4.0.3 and up']\n",
      "\n",
      "\n",
      "['U Launcher Lite – FREE Live Cool Themes, Hide Apps', 'ART_AND_DESIGN', '4.7', '87510', '8.7M', '5,000,000+', 'Free', '0', 'Everyone', 'Art & Design', 'August 1, 2018', '1.2.4', '4.0.3 and up']\n",
      "\n",
      "\n",
      "['Sketch - Draw & Paint', 'ART_AND_DESIGN', '4.5', '215644', '25M', '50,000,000+', 'Free', '0', 'Teen', 'Art & Design', 'June 8, 2018', 'Varies with device', '4.2 and up']\n"
     ]
    }
   ],
   "source": [
    "print(\"\\n\")\n",
    "print(\"Example of rows from Google App store\")\n",
    "\n",
    "for row in google_english_free_apps[:3]:\n",
    "    print(\"\\n\")\n",
    "    print(row)\n"
   ]
  },
  {
   "cell_type": "markdown",
   "metadata": {},
   "source": [
    "### Findings for the Apple Store Frequency:\n",
    "\n",
    "For the App store, the 3 top genres are for Games (58%), Entertainment (8% rounded off) , and Photo & Video (5% rounded off).\n",
    "\n",
    "The education genre didn't make it to the top for the free apps in the Apple store. The catalog genre has the lowest and is less than 1%. The percentages for the popularity of the apps does not represent the largest number of users.\n"
   ]
  },
  {
   "cell_type": "code",
   "execution_count": 24,
   "metadata": {
    "scrolled": false
   },
   "outputs": [
    {
     "name": "stdout",
     "output_type": "stream",
     "text": [
      "\n",
      "\n",
      "Google English App Frequency for Column Genre\n",
      "Tools : 8.114248620577733\n",
      "Entertainment : 6.112733960835227\n",
      "Education : 5.355404089581304\n",
      "Business : 4.727902196256626\n",
      "Productivity : 3.884020339716542\n",
      "Lifestyle : 3.851563345234231\n",
      "Medical : 3.7109163691442175\n",
      "Finance : 3.591907389375744\n",
      "Sports : 3.5486313967326626\n",
      "Health & Fitness : 3.2889754408741747\n",
      "Communication : 3.2456994482310937\n",
      "Personalization : 3.213242453748783\n",
      "Action : 3.0076814886941468\n",
      "Photography : 2.8994915070864438\n",
      "News & Magazines : 2.8886725089256737\n",
      "Social : 2.693930542031808\n",
      "Shopping : 2.5100075732987124\n",
      "Travel & Local : 2.41263658985178\n",
      "Dating : 2.120523639510981\n",
      "Books & Reference : 2.0880666450286705\n",
      "Simulation : 1.969057665260197\n",
      "Arcade : 1.7851346965271015\n",
      "Video Players & Editors : 1.6985827112409388\n",
      "Casual : 1.6985827112409388\n",
      "Maps & Navigation : 1.3523747700962891\n",
      "Food & Drink : 1.2225467921670454\n",
      "Puzzle : 1.1143568105593422\n",
      "Racing : 0.9520718381477875\n",
      "Strategy : 0.897976847343936\n",
      "Role Playing : 0.897976847343936\n",
      "Libraries & Demo : 0.897976847343936\n",
      "Auto & Vehicles : 0.8871578491831656\n",
      "House & Home : 0.8763388510223954\n",
      "Weather : 0.7681488694146922\n",
      "Events : 0.6815968841285297\n",
      "Adventure : 0.6491398896462187\n",
      "Comics : 0.5842259006815969\n",
      "Art & Design : 0.5842259006815969\n",
      "Beauty : 0.5734069025208266\n",
      "Parenting : 0.47603591907389375\n",
      "Card : 0.4327599264308125\n",
      "Educational;Education : 0.41112193010927184\n",
      "Casino : 0.41112193010927184\n",
      "Trivia : 0.4003029319485016\n",
      "Education;Education : 0.36784593746619065\n",
      "Board : 0.36784593746619065\n",
      "Educational : 0.35702693930542034\n",
      "Word : 0.24883695769771721\n",
      "Casual;Pretend Play : 0.22719896137617657\n",
      "Music : 0.20556096505463592\n",
      "Puzzle;Brain Games : 0.173103970572325\n",
      "Racing;Action & Adventure : 0.16228497241155468\n",
      "Entertainment;Music & Video : 0.16228497241155468\n",
      "Casual;Action & Adventure : 0.1514659742507844\n",
      "Casual;Brain Games : 0.14064697609001406\n",
      "Arcade;Action & Adventure : 0.12982797792924375\n",
      "Educational;Pretend Play : 0.11900897976847344\n",
      "Action;Action & Adventure : 0.10818998160770313\n",
      "Simulation;Action & Adventure : 0.0865519852861625\n",
      "Education;Pretend Play : 0.0865519852861625\n",
      "Parenting;Education : 0.0757329871253922\n",
      "Entertainment;Brain Games : 0.0757329871253922\n",
      "Board;Brain Games : 0.0757329871253922\n",
      "Parenting;Music & Video : 0.06491398896462187\n",
      "Educational;Brain Games : 0.06491398896462187\n",
      "Casual;Creativity : 0.06491398896462187\n",
      "Art & Design;Creativity : 0.06491398896462187\n",
      "Role Playing;Pretend Play : 0.054094990803851564\n",
      "Role Playing;Action & Adventure : 0.04327599264308125\n",
      "Education;Music & Video : 0.04327599264308125\n",
      "Education;Creativity : 0.04327599264308125\n",
      "Puzzle;Action & Adventure : 0.03245699448231094\n",
      "Entertainment;Creativity : 0.03245699448231094\n",
      "Entertainment;Action & Adventure : 0.03245699448231094\n",
      "Educational;Creativity : 0.03245699448231094\n",
      "Educational;Action & Adventure : 0.03245699448231094\n",
      "Education;Brain Games : 0.03245699448231094\n",
      "Education;Action & Adventure : 0.03245699448231094\n",
      "Adventure;Action & Adventure : 0.03245699448231094\n",
      "Video Players & Editors;Music & Video : 0.021637996321540624\n",
      "Sports;Action & Adventure : 0.021637996321540624\n",
      "Simulation;Pretend Play : 0.021637996321540624\n",
      "Puzzle;Creativity : 0.021637996321540624\n",
      "Music;Music & Video : 0.021637996321540624\n",
      "Entertainment;Pretend Play : 0.021637996321540624\n",
      "Casual;Music & Video : 0.021637996321540624\n",
      "Casual;Education : 0.021637996321540624\n",
      "Board;Action & Adventure : 0.021637996321540624\n",
      "Video Players & Editors;Creativity : 0.010818998160770312\n",
      "Trivia;Education : 0.010818998160770312\n",
      "Travel & Local;Action & Adventure : 0.010818998160770312\n",
      "Tools;Education : 0.010818998160770312\n",
      "Strategy;Education : 0.010818998160770312\n",
      "Strategy;Creativity : 0.010818998160770312\n",
      "Strategy;Action & Adventure : 0.010818998160770312\n",
      "Simulation;Education : 0.010818998160770312\n",
      "Role Playing;Brain Games : 0.010818998160770312\n",
      "Racing;Pretend Play : 0.010818998160770312\n",
      "Puzzle;Education : 0.010818998160770312\n",
      "Parenting;Brain Games : 0.010818998160770312\n",
      "Music & Audio;Music & Video : 0.010818998160770312\n",
      "Lifestyle;Pretend Play : 0.010818998160770312\n",
      "Lifestyle;Education : 0.010818998160770312\n",
      "Health & Fitness;Education : 0.010818998160770312\n",
      "Health & Fitness;Action & Adventure : 0.010818998160770312\n",
      "Entertainment;Education : 0.010818998160770312\n",
      "Communication;Creativity : 0.010818998160770312\n",
      "Comics;Creativity : 0.010818998160770312\n",
      "Card;Action & Adventure : 0.010818998160770312\n",
      "Books & Reference;Education : 0.010818998160770312\n",
      "Art & Design;Pretend Play : 0.010818998160770312\n",
      "Art & Design;Action & Adventure : 0.010818998160770312\n",
      "Arcade;Pretend Play : 0.010818998160770312\n",
      "Adventure;Education : 0.010818998160770312\n",
      " : 0.010818998160770312\n"
     ]
    }
   ],
   "source": [
    "print(\"\\n\")\n",
    "print(\"Google English App Frequency for Column Genre\")\n",
    "\n",
    "display_table(google_english_free_apps, 9)"
   ]
  },
  {
   "cell_type": "code",
   "execution_count": 25,
   "metadata": {},
   "outputs": [
    {
     "name": "stdout",
     "output_type": "stream",
     "text": [
      "\n",
      "\n",
      "Google English App Frequency for Column Category\n",
      "FAMILY : 18.457210862274152\n",
      "GAME : 9.455804392513253\n",
      "TOOLS : 8.125067618738505\n",
      "BUSINESS : 4.727902196256626\n",
      "PRODUCTIVITY : 3.884020339716542\n",
      "LIFESTYLE : 3.8623823433950015\n",
      "MEDICAL : 3.7109163691442175\n",
      "FINANCE : 3.591907389375744\n",
      "SPORTS : 3.47289840960727\n",
      "HEALTH_AND_FITNESS : 3.2889754408741747\n",
      "COMMUNICATION : 3.2456994482310937\n",
      "PERSONALIZATION : 3.213242453748783\n",
      "PHOTOGRAPHY : 2.8994915070864438\n",
      "NEWS_AND_MAGAZINES : 2.8886725089256737\n",
      "SOCIAL : 2.693930542031808\n",
      "SHOPPING : 2.5100075732987124\n",
      "TRAVEL_AND_LOCAL : 2.4234555880125503\n",
      "DATING : 2.120523639510981\n",
      "BOOKS_AND_REFERENCE : 2.0880666450286705\n",
      "VIDEO_PLAYERS : 1.7202207075624798\n",
      "MAPS_AND_NAVIGATION : 1.3523747700962891\n",
      "EDUCATION : 1.3199177756139782\n",
      "FOOD_AND_DRINK : 1.2225467921670454\n",
      "ENTERTAINMENT : 1.179270799523964\n",
      "LIBRARIES_AND_DEMO : 0.897976847343936\n",
      "AUTO_AND_VEHICLES : 0.8871578491831656\n",
      "HOUSE_AND_HOME : 0.8763388510223954\n",
      "WEATHER : 0.7681488694146922\n",
      "EVENTS : 0.6815968841285297\n",
      "PARENTING : 0.6275018933246781\n",
      "ART_AND_DESIGN : 0.6275018933246781\n",
      "COMICS : 0.5950448988423671\n",
      "BEAUTY : 0.5734069025208266\n",
      " : 0.010818998160770312\n"
     ]
    }
   ],
   "source": [
    "print(\"\\n\")\n",
    "print(\"Google English App Frequency for Column Category\")\n",
    "\n",
    "display_table(google_english_free_apps, 1)"
   ]
  },
  {
   "cell_type": "markdown",
   "metadata": {},
   "source": [
    "### Findings for the Google Store Frequency:\n",
    "\n",
    "The genres for entertainment are more popular than the apps designed for the practical purposes. The genres for entertainment are more popular than the apps designed for the practical purposes.\n",
    "\n",
    "The app store has more apps that are for families.\n"
   ]
  },
  {
   "cell_type": "markdown",
   "metadata": {},
   "source": [
    "### The following task is to create a frequency for the number of users to find out the apps with most users."
   ]
  },
  {
   "cell_type": "markdown",
   "metadata": {},
   "source": [
    "Apple Free Store Frequency for Users\n",
    "\n",
    "- Prime Genre (11)\n",
    "- Rating count total (5)"
   ]
  },
  {
   "cell_type": "code",
   "execution_count": 26,
   "metadata": {
    "scrolled": true
   },
   "outputs": [
    {
     "name": "stdout",
     "output_type": "stream",
     "text": [
      "Social Networking  :  68951.51818181819\n",
      "Photo & Video  :  27747.84756097561\n",
      "Games  :  21889.392619169656\n",
      "Music  :  57326.530303030304\n",
      "Reference  :  70997.78947368421\n",
      "Health & Fitness  :  22945.015151515152\n",
      "Weather  :  52279.892857142855\n",
      "Utilities  :  17819.44705882353\n",
      "Travel  :  27558.048780487807\n",
      "Shopping  :  25992.597701149425\n",
      "News  :  20303.666666666668\n",
      "Navigation  :  57482.11111111111\n",
      "Lifestyle  :  15013.92857142857\n",
      "Entertainment  :  13349.794007490636\n",
      "Food & Drink  :  27958.709677419356\n",
      "Sports  :  23008.898550724636\n",
      "Book  :  34788.6875\n",
      "Finance  :  28321.325\n",
      "Education  :  6945.126050420168\n",
      "Productivity  :  20318.275862068964\n",
      "Business  :  7074.944444444444\n",
      "Catalogs  :  3203.2\n",
      "Medical  :  525.4285714285714\n"
     ]
    }
   ],
   "source": [
    "apple_genre_list = freq_table(apple_english_free_apps, 11 )\n",
    "\n",
    "for genre in apple_genre_list:\n",
    "    total = 0\n",
    "    len_genre = 0\n",
    "\n",
    "    for app in apple_english_free_apps:\n",
    "        app_row = app[11]\n",
    "        rating = app[5]\n",
    "        \n",
    "        if app_row == genre:\n",
    "            app_rating = float(rating)\n",
    "            total += app_rating\n",
    "            len_genre += 1\n",
    "\n",
    "    average = total / len_genre\n",
    "    print(genre, ' : ', average)    \n"
   ]
  },
  {
   "cell_type": "code",
   "execution_count": 27,
   "metadata": {},
   "outputs": [
    {
     "name": "stdout",
     "output_type": "stream",
     "text": [
      "\n",
      "\n",
      "Apple app with the highest users\n",
      "Bible  :  985920\n",
      "Dictionary.com Dictionary & Thesaurus  :  200047\n",
      "Dictionary.com Dictionary & Thesaurus for iPad  :  54175\n",
      "Google Translate  :  26786\n",
      "Muslim Pro: Ramadan 2017 Prayer Times, Azan, Quran  :  18418\n",
      "New Furniture Mods - Pocket Wiki & Game Tools for Minecraft PC Edition  :  17588\n",
      "Merriam-Webster Dictionary  :  16849\n",
      "Night Sky  :  12122\n",
      "City Maps for Minecraft PE - The Best Maps for Minecraft Pocket Edition (MCPE)  :  8535\n",
      "LUCKY BLOCK MOD ™ for Minecraft PC Edition - The Best Pocket Wiki & Mods Installer Tools  :  4693\n",
      "GUNS MODS for Minecraft PC Edition - Mods Tools  :  1497\n",
      "Guides for Pokémon GO - Pokemon GO News and Cheats  :  826\n",
      "WWDC  :  762\n",
      "Horror Maps for Minecraft PE - Download The Scariest Maps for Minecraft Pocket Edition (MCPE) Free  :  718\n",
      "VPN Express  :  14\n",
      "Real Bike Traffic Rider Virtual Reality Glasses  :  8\n",
      "教えて!goo  :  0\n",
      "Jishokun-Japanese English Dictionary & Translator  :  0\n",
      "無料で音楽や写真・カメラの裏技アプリ for iPhone7  :  0\n"
     ]
    }
   ],
   "source": [
    "print(\"\\n\")\n",
    "print(\"Apple app with the highest users\")\n",
    "for row in apple_english_free_apps:\n",
    "    if row[11] == 'Reference':\n",
    "        print(row[1], ' : ', row[5])"
   ]
  },
  {
   "cell_type": "markdown",
   "metadata": {},
   "source": [
    "The result for the Google English Free apps above shows that Reference has the highest number of ratings."
   ]
  },
  {
   "cell_type": "markdown",
   "metadata": {},
   "source": [
    "Google Play Store Frequency for Users evaluated based on the following columns:\n",
    "\n",
    "- Category (1)\n",
    "- Installs (5)"
   ]
  },
  {
   "cell_type": "code",
   "execution_count": 28,
   "metadata": {},
   "outputs": [
    {
     "name": "stdout",
     "output_type": "stream",
     "text": [
      "ART_AND_DESIGN ,  1952105.1724137932\n",
      "AUTO_AND_VEHICLES ,  647317.8170731707\n",
      "BEAUTY ,  513151.88679245283\n",
      "BOOKS_AND_REFERENCE ,  8657695.647668393\n",
      "BUSINESS ,  1887876.6361556065\n",
      "COMICS ,  817657.2727272727\n",
      "COMMUNICATION ,  52706387.336666666\n",
      "DATING ,  854027.8418367347\n",
      "EDUCATION ,  2265163.9344262294\n",
      "ENTERTAINMENT ,  11105137.614678899\n",
      "EVENTS ,  253542.22222222222\n",
      "FINANCE ,  1374888.9518072288\n",
      "FOOD_AND_DRINK ,  2015387.1769911505\n",
      "HEALTH_AND_FITNESS ,  4261507.90131579\n",
      "HOUSE_AND_HOME ,  1737067.4197530865\n",
      "LIBRARIES_AND_DEMO ,  638503.734939759\n",
      "LIFESTYLE ,  1415698.6806722688\n",
      "GAME ,  17784747.654462244\n",
      "FAMILY ,  3752940.615474795\n",
      "MEDICAL ,  141184.85131195336\n",
      "SOCIAL ,  24252457.437751003\n",
      "SHOPPING ,  8119993.900862069\n",
      "PHOTOGRAPHY ,  17952495.57835821\n",
      "SPORTS ,  3715983.436137072\n",
      "TRAVEL_AND_LOCAL ,  14204036.098214285\n",
      "TOOLS ,  10800324.199733688\n",
      "PERSONALIZATION ,  5990693.225589226\n",
      "PRODUCTIVITY ,  20319301.710306406\n",
      "PARENTING ,  542603.6206896552\n",
      "WEATHER ,  5074486.197183099\n",
      "VIDEO_PLAYERS ,  24727872.452830188\n",
      "NEWS_AND_MAGAZINES ,  11128491.610486891\n",
      "MAPS_AND_NAVIGATION ,  4025286.24\n",
      " ,  1000.0\n"
     ]
    }
   ],
   "source": [
    "google_genre_list = freq_table(google_english_free_apps, 1)\n",
    "\n",
    "for category in google_genre_list:\n",
    "    total = 0\n",
    "    len_category = 0\n",
    "    total_app_rating = 0\n",
    "\n",
    "    for app_row in google_english_free_apps:\n",
    "        category_row = app_row[1]\n",
    "        rating = app_row[5]\n",
    "        \n",
    "        if category_row == category:\n",
    "\n",
    "            app_rating = rating.replace(',','')\n",
    "            app_rating = app_rating.replace('+','')\n",
    "            total_app_rating = float(app_rating)\n",
    "            total += total_app_rating\n",
    "            len_category += 1\n",
    "\n",
    "    average = total / len_category\n",
    "    print(category, ', ', average)\n"
   ]
  },
  {
   "cell_type": "markdown",
   "metadata": {},
   "source": [
    "Based on the results for the Google English Free apps, the category with the highest installs are apps within the COMMUNICATION category."
   ]
  },
  {
   "cell_type": "code",
   "execution_count": 29,
   "metadata": {},
   "outputs": [
    {
     "name": "stdout",
     "output_type": "stream",
     "text": [
      "\n",
      "\n",
      "Google app with the highest users\n",
      "WhatsApp Messenger  :  1,000,000,000+\n",
      "Messenger for SMS  :  10,000,000+\n",
      "My Tele2  :  5,000,000+\n",
      "imo beta free calls and text  :  100,000,000+\n",
      "Contacts  :  50,000,000+\n",
      "Call Free – Free Call  :  5,000,000+\n",
      "Web Browser & Explorer  :  5,000,000+\n",
      "Browser 4G  :  10,000,000+\n",
      "MegaFon Dashboard  :  10,000,000+\n",
      "ZenUI Dialer & Contacts  :  10,000,000+\n",
      "Cricket Visual Voicemail  :  10,000,000+\n",
      "TracFone My Account  :  1,000,000+\n",
      "Xperia Link™  :  10,000,000+\n",
      "TouchPal Keyboard - Fun Emoji & Android Keyboard  :  10,000,000+\n",
      "Skype Lite - Free Video Call & Chat  :  5,000,000+\n",
      "My magenta  :  1,000,000+\n",
      "Android Messages  :  100,000,000+\n",
      "Google Duo - High Quality Video Calls  :  500,000,000+\n",
      "Seznam.cz  :  1,000,000+\n",
      "Antillean Gold Telegram (original version)  :  100,000+\n",
      "AT&T Visual Voicemail  :  10,000,000+\n",
      "GMX Mail  :  10,000,000+\n",
      "Omlet Chat  :  10,000,000+\n",
      "My Vodacom SA  :  5,000,000+\n",
      "Microsoft Edge  :  5,000,000+\n",
      "WhatsApp Messenger  :  1,000,000,000+\n",
      "Messenger – Text and Video Chat for Free  :  1,000,000,000+\n",
      "imo free video calls and chat  :  500,000,000+\n",
      "Calls & Text by Mo+  :  5,000,000+\n",
      "free video calls and chat  :  50,000,000+\n",
      "Skype - free IM & video calls  :  1,000,000,000+\n",
      "Who  :  100,000,000+\n",
      "GO SMS Pro - Messenger, Free Themes, Emoji  :  100,000,000+\n",
      "Android Messages  :  100,000,000+\n",
      "Messaging+ SMS, MMS Free  :  1,000,000+\n",
      "chomp SMS  :  10,000,000+\n",
      "Glide - Video Chat Messenger  :  10,000,000+\n",
      "Text SMS  :  10,000,000+\n",
      "Talkray - Free Calls & Texts  :  10,000,000+\n",
      "LINE: Free Calls & Messages  :  500,000,000+\n",
      "GroupMe  :  10,000,000+\n",
      "mysms SMS Text Messaging Sync  :  1,000,000+\n",
      "2ndLine - Second Phone Number  :  1,000,000+\n",
      "Google Chrome: Fast & Secure  :  1,000,000,000+\n",
      "Firefox Browser fast & private  :  100,000,000+\n",
      "Ninesky Browser  :  1,000,000+\n",
      "Dolphin Browser - Fast, Private & Adblock🐬  :  50,000,000+\n",
      "UC Browser - Fast Download Private & Secure  :  500,000,000+\n",
      "Ghostery Privacy Browser  :  1,000,000+\n",
      "InBrowser - Incognito Browsing  :  1,000,000+\n",
      "Lightning Web Browser  :  500,000+\n",
      "Web Browser  :  500,000+\n",
      "Contacts+  :  10,000,000+\n",
      "ExDialer - Dialer & Contacts  :  10,000,000+\n",
      "Calls & Text by Mo+  :  5,000,000+\n",
      "PHONE for Google Voice & GTalk  :  1,000,000+\n",
      "Safest Call Blocker  :  1,000,000+\n",
      "Full Screen Caller ID  :  5,000,000+\n",
      "Hiya - Caller ID & Block  :  10,000,000+\n",
      "Mr. Number-Block calls & spam  :  10,000,000+\n",
      "Should I Answer?  :  1,000,000+\n",
      "RocketDial Dialer & Contacts  :  1,000,000+\n",
      "CIA - Caller ID & Call Blocker  :  5,000,000+\n",
      "Calls Blacklist - Call Blocker  :  10,000,000+\n",
      "Call Control - Call Blocker  :  5,000,000+\n",
      "True Contact - Real Caller ID  :  1,000,000+\n",
      "Video Caller Id  :  1,000,000+\n",
      "Sync.ME – Caller ID & Block  :  5,000,000+\n",
      "Burner - Free Phone Number  :  1,000,000+\n",
      "Caller ID +  :  1,000,000+\n",
      "Gmail  :  1,000,000,000+\n",
      "K-9 Mail  :  5,000,000+\n",
      "myMail – Email for Hotmail, Gmail and Outlook Mail  :  10,000,000+\n",
      "Email TypeApp - Mail App  :  1,000,000+\n",
      "All Email Providers  :  1,000,000+\n",
      "Newton Mail - Email App for Gmail, Outlook, IMAP  :  1,000,000+\n",
      "GO Notifier  :  10,000,000+\n",
      "Mail.Ru - Email App  :  50,000,000+\n",
      "Mail1Click - Secure Mail  :  10,000+\n",
      "Daum Mail - Next Mail  :  5,000,000+\n",
      "mail.com mail  :  1,000,000+\n",
      "SolMail - All-in-One email app  :  500,000+\n",
      "Hangouts  :  1,000,000,000+\n",
      "imo free video calls and chat  :  500,000,000+\n",
      "free video calls and chat  :  50,000,000+\n",
      "Skype - free IM & video calls  :  1,000,000,000+\n",
      "Vonage Mobile® Call Video Text  :  1,000,000+\n",
      "JusTalk - Free Video Calls and Fun Video Chat  :  5,000,000+\n",
      "Glide - Video Chat Messenger  :  10,000,000+\n",
      "Talkray - Free Calls & Texts  :  10,000,000+\n",
      "LINE: Free Calls & Messages  :  500,000,000+\n",
      "Azar  :  50,000,000+\n",
      "LokLok: Draw on a Lock Screen  :  500,000+\n",
      "Discord - Chat for Gamers  :  10,000,000+\n",
      "Google Duo - High Quality Video Calls  :  500,000,000+\n",
      "Messenger Lite: Free Calls & Messages  :  100,000,000+\n",
      "imo beta free calls and text  :  100,000,000+\n",
      "AntennaPict β  :  1,000,000+\n",
      "Skype - free IM & video calls  :  1,000,000,000+\n",
      "Talkatone: Free Texts, Calls & Phone Number  :  10,000,000+\n",
      "Kik  :  100,000,000+\n",
      "K-@ Mail - Email App  :  100,000+\n",
      "KakaoTalk: Free Calls & Text  :  100,000,000+\n",
      "K-9 Material (unofficial)  :  5,000+\n",
      "M star Dialer  :  100,000+\n",
      "Free WiFi Connect  :  10,000,000+\n",
      "m:go BiH  :  10,000+\n",
      "N-Com Wizard  :  50,000+\n",
      "Opera Mini - fast web browser  :  100,000,000+\n",
      "Opera Browser: Fast and Secure  :  100,000,000+\n",
      "Opera Mini browser beta  :  10,000,000+\n",
      "Psiphon Pro - The Internet Freedom VPN  :  10,000,000+\n",
      "ICQ — Video Calls & Chat Messenger  :  10,000,000+\n",
      "Telegram  :  100,000,000+\n",
      "AT&T Messages for Tablet  :  1,000,000+\n",
      "T-Mobile DIGITS  :  100,000+\n",
      "Truecaller: Caller ID, SMS spam blocking & Dialer  :  100,000,000+\n",
      "Portable Wi-Fi hotspot  :  10,000,000+\n",
      "AT&T Call Protect  :  5,000,000+\n",
      "U - Webinars, Meetings & Messenger  :  500,000+\n",
      "UC Browser Mini -Tiny Fast Private & Secure  :  100,000,000+\n",
      "/u/app  :  10,000+\n",
      "[verify-U] VideoIdent  :  10,000+\n",
      "Viber Messenger  :  500,000,000+\n",
      "WeChat  :  100,000,000+\n",
      "WhatsApp Business  :  10,000,000+\n",
      "WhatsCall Free Global Phone Call App & Cheap Calls  :  10,000,000+\n",
      "X Browser  :  50,000+\n",
      "Yahoo Mail – Stay Organized  :  100,000,000+\n",
      "Free Adblocker Browser - Adblock & Popup Blocker  :  10,000,000+\n",
      "Adblock Browser for Android  :  10,000,000+\n",
      "CM Browser - Ad Blocker , Fast Download , Privacy  :  50,000,000+\n",
      "Adblock Plus for Samsung Internet - Browse safe.  :  1,000,000+\n",
      "Ad Blocker Turbo - Adblocker Browser  :  10,000+\n",
      "Brave Browser: Fast AdBlocker  :  5,000,000+\n",
      "AG Contacts, Lite edition  :  5,000+\n",
      "Oklahoma Ag Co-op Council  :  10+\n",
      "Bee'ah Employee App  :  100+\n",
      "tournaments and more.aj.2  :  100+\n",
      "Aj.Petra  :  100+\n",
      "AK Phone  :  5,000+\n",
      "PlacarTv Futebol Ao Vivo  :  100,000+\n",
      "WiFi Access Point (hotspot)  :  100,000+\n",
      "Access Point Names  :  10,000+\n",
      "Puffin Web Browser  :  10,000,000+\n",
      "ClanHQ  :  10,000+\n",
      "Ear Agent: Super Hearing  :  5,000,000+\n",
      "Google Voice  :  10,000,000+\n",
      "Google Allo  :  10,000,000+\n",
      "AU Call Blocker - Block Unwanted Calls Texts 2018  :  1,000+\n",
      "Baby Monitor AV  :  100,000+\n",
      "AV Phone  :  1,000+\n",
      "AW - free video calls and chat  :  1,000,000+\n",
      "Katalogen.ax  :  100+\n",
      "AZ Browser. Private & Download  :  100,000+\n",
      "BA SALES  :  1+\n",
      "BD Data Plan (3G & 4G)  :  500,000+\n",
      "BD Internet Packages (Updated)  :  50,000+\n",
      "BD Dialer  :  10,000+\n",
      "BD Live Call  :  5,000+\n",
      "Best Browser BD social networking  :  10+\n",
      "Traffic signs BD  :  500+\n",
      "BF Browser by Betfilter - Stop Gambling Today!  :  10,000+\n",
      "My BF App  :  50,000+\n",
      "BH Mail  :  1,000+\n",
      "Zalo – Video Call  :  50,000,000+\n",
      "BJ - Confidential  :  10+\n",
      "BK Chat  :  1,000+\n",
      "Of the wall Arapaho bk  :  5+\n",
      "AC-BL  :  50+\n",
      "BBM - Free Calls & Messages  :  100,000,000+\n",
      "DMR BrandMeister Tool  :  10,000+\n",
      "BBMoji - Your personalized BBM Stickers  :  1,000,000+\n",
      "BN MALLORCA Radio  :  1,000+\n",
      "BQ Partners  :  1,000+\n",
      "BS-Mobile  :  50+\n",
      "ATC Unico BS  :  500+\n",
      "BT One Voice mobile access  :  5,000+\n",
      "BT Messenger  :  50,000+\n",
      "BT One Phone Mobile App  :  10,000+\n",
      "SW-100.tch by Callstel  :  1,000,000+\n",
      "BT MeetMe with Dolby Voice  :  100,000+\n",
      "Bluetooth Auto Connect  :  5,000,000+\n",
      "AudioBT: BT audio GPS/SMS/Text  :  50,000+\n",
      "BV  :  100+\n",
      "Feel Performer  :  10,000+\n",
      "Tiny Call Confirm  :  1,000,000+\n",
      "CB Radio Chat - for friends!  :  1,000,000+\n",
      "CB On Mobile  :  100,000+\n",
      "Virtual Walkie Talkie  :  1,000,000+\n",
      "Channel 19  :  100,000+\n",
      "Cb browser  :  50+\n",
      "CF Chat: Connecting Friends  :  100+\n",
      "retteMi.ch  :  5,000+\n",
      "Chrome Dev  :  5,000,000+\n",
      "CJ Browser - Fast & Private  :  100+\n",
      "CJ DVD Rentals  :  100+\n",
      "CK Call NEW  :  10+\n",
      "CM Transfer - Share any files with friends nearby  :  5,000,000+\n",
      "mail.co.uk Mail  :  5,000+\n",
      "ClanPlay: Community and Tools for Gamers  :  1,000,000+\n",
      "CQ-Mobile  :  1,000+\n",
      "CQ-Alert  :  500+\n",
      "QRZ Assistant  :  100,000+\n",
      "Pocket Prefix Plus  :  10,000+\n",
      "Ham Radio Prefixes  :  10,000+\n",
      "CS Customizer  :  1,000+\n",
      "CS Browser | #1 & BEST BROWSER  :  1,000+\n",
      "CS Browser Beta  :  5,000+\n",
      "My Vodafone (GR)  :  1,000,000+\n",
      "IZ2UUF Morse Koch CW  :  50,000+\n",
      "C W Browser  :  100+\n",
      "CW Bluetooth SPP  :  100+\n",
      "CW BLE Peripheral Simulator  :  500+\n",
      "Morse Code Reader  :  100,000+\n",
      "Learn Morse Code - G0HYN Learn Morse  :  5,000+\n",
      "Ring  :  10,000+\n",
      "Hyundai CX Conference  :  50+\n",
      "Cy Messenger  :  100+\n",
      "Amadeus GR & CY  :  100+\n",
      "Hlášenírozhlasu.cz  :  10+\n",
      "SMS Sender - sluzba.cz  :  1,000+\n",
      "WEB.DE Mail  :  10,000,000+\n",
      "Your Freedom VPN Client  :  5,000,000+\n",
      "CallApp: Caller ID, Blocker & Phone Call Recorder  :  10,000,000+\n",
      "Rádio Sol Nascente DF  :  500+\n",
      "DG Card  :  100+\n",
      "Whoscall - Caller ID & Block  :  10,000,000+\n",
      "DK Browser  :  10+\n",
      "cluster.dk  :  1,000+\n",
      "DK TEL Dialer  :  50+\n",
      "DM for WhatsApp  :  5,000+\n",
      "DM Talk New  :  5,000+\n",
      "DM - The Offical Messaging App  :  10+\n",
      "DM Tracker  :  1,000+\n",
      "Call Blocker & Blacklist  :  1,000+\n",
      "ReadyOp DT  :  1,000+\n",
      "DU Browser—Browse fast & fun  :  10,000,000+\n",
      "Caller ID & Call Block - DU Caller  :  5,000,000+\n",
      "BlueDV AMBE  :  1,000+\n",
      "DW Contacts & Phone & Dialer  :  1,000,000+\n",
      "Deaf World DW  :  10,000+\n",
      "Ham DX Cluster & Spots Finder  :  5,000+\n",
      "Mircules DX Cluster Lite  :  5,000+\n",
      "3G DZ Configuration  :  50,000+\n",
      "chat dz  :  100+\n",
      "love sms good morning  :  5,000+\n",
      "Goodbox - Mega App  :  100,000+\n",
      "Call Blocker - Blacklist, SMS Blocker  :  1,000,000+\n",
      "[EF]ShoutBox  :  100+\n",
      "Eg Call  :  10,000+\n",
      "ei  :  10+\n",
      "EJ messenger  :  10+\n",
      "Ek IRA  :  10+\n",
      "Orfox: Tor Browser for Android  :  10,000,000+\n",
      "EO Mumbai  :  10+\n",
      "EP RSS Reader  :  100+\n",
      "Voxer Walkie Talkie Messenger  :  10,000,000+\n",
      "ES-1  :  500+\n",
      "Hangouts Dialer - Call Phones  :  10,000,000+\n",
      "EU Council  :  1,000+\n",
      "Council Voting Calculator  :  5,000+\n",
      "Have your say on Europe  :  500+\n",
      "Programi podrške EU  :  100+\n",
      "Inbox.eu  :  10,000+\n",
      "Web Browser for Android  :  1,000,000+\n",
      "哈哈姆特不EY  :  10,000+\n",
      "Everbridge  :  100,000+\n",
      "Best Auto Call Recorder Free  :  500+\n",
      "EZ Wifi Notification  :  10,000+\n",
      "Test Server SMS FA  :  5+\n",
      "Lite for Facebook Messenger  :  1,000,000+\n",
      "FC Browser - Focus Privacy Browser  :  1,000+\n",
      "EHiN-FH conferenceapp  :  100+\n",
      "Carpooling FH Hagenberg  :  100+\n",
      "Wi-Fi Auto-connect  :  1,000,000+\n",
      "Talkie - Wi-Fi Calling, Chats, File Sharing  :  500,000+\n",
      "WeFi - Free Fast WiFi Connect & Find Wi-Fi Map  :  1,000,000+\n",
      "Sat-Fi  :  5,000+\n",
      "Portable Wi-Fi hotspot Free  :  100,000+\n",
      "TownWiFi | Wi-Fi Everywhere  :  500,000+\n",
      "Jazz Wi-Fi  :  10,000+\n",
      "Sat-Fi Voice  :  1,000+\n",
      "Free Wi-fi HotspoT  :  50,000+\n",
      "FN Web Radio  :  10+\n",
      "FNH Payment Info  :  10+\n",
      "MARKET FO  :  100+\n",
      "FO OP St-Nazaire  :  100+\n",
      "FO SODEXO  :  100+\n",
      "FO RCBT  :  100+\n",
      "FO Interim  :  100+\n",
      "FO PSA Sept-Fons  :  100+\n",
      "FO AIRBUS TLSE  :  1,000+\n",
      "FO STELIA Méaulte  :  100+\n",
      "FO AIRBUS Nantes  :  100+\n",
      "Firefox Focus: The privacy browser  :  1,000,000+\n",
      "FP Connect  :  100+\n",
      "FreedomPop Messaging Phone/SIM  :  500,000+\n",
      "FP Live  :  10+\n",
      "HipChat - beta version  :  50,000+\n"
     ]
    }
   ],
   "source": [
    "print(\"\\n\")\n",
    "print(\"Google app with the highest users\")\n",
    "for row in google_english_free_apps:\n",
    "    if row[1] == 'COMMUNICATION':\n",
    "        print(row[0], ' : ', row[5])"
   ]
  },
  {
   "cell_type": "code",
   "execution_count": null,
   "metadata": {},
   "outputs": [],
   "source": []
  }
 ],
 "metadata": {
  "celltoolbar": "Raw Cell Format",
  "kernelspec": {
   "display_name": "Python 3",
   "language": "python",
   "name": "python3"
  },
  "language_info": {
   "codemirror_mode": {
    "name": "ipython",
    "version": 3
   },
   "file_extension": ".py",
   "mimetype": "text/x-python",
   "name": "python",
   "nbconvert_exporter": "python",
   "pygments_lexer": "ipython3",
   "version": "3.7.6"
  }
 },
 "nbformat": 4,
 "nbformat_minor": 4
}
